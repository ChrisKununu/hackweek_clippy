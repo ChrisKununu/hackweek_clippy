{
 "cells": [
  {
   "cell_type": "code",
   "execution_count": 1,
   "id": "7e7c343c",
   "metadata": {},
   "outputs": [],
   "source": [
    "import pandas as pd\n",
    "from haystack.document_stores import OpenSearchDocumentStore\n",
    "from haystack.schema import Document"
   ]
  },
  {
   "cell_type": "code",
   "execution_count": 2,
   "id": "8ccb3054",
   "metadata": {},
   "outputs": [
    {
     "name": "stderr",
     "output_type": "stream",
     "text": [
      "/Users/paul.leitner/miniforge3/envs/text_preparation/lib/python3.10/site-packages/opensearchpy/connection/http_urllib3.py:208: UserWarning: Connecting to https://localhost:9200 using SSL with verify_certs=False is insecure.\n",
      "  warnings.warn(\n",
      "/Users/paul.leitner/miniforge3/envs/text_preparation/lib/python3.10/site-packages/urllib3/connectionpool.py:1045: InsecureRequestWarning: Unverified HTTPS request is being made to host 'localhost'. Adding certificate verification is strongly advised. See: https://urllib3.readthedocs.io/en/1.26.x/advanced-usage.html#ssl-warnings\n",
      "  warnings.warn(\n",
      "/Users/paul.leitner/miniforge3/envs/text_preparation/lib/python3.10/site-packages/urllib3/connectionpool.py:1045: InsecureRequestWarning: Unverified HTTPS request is being made to host 'localhost'. Adding certificate verification is strongly advised. See: https://urllib3.readthedocs.io/en/1.26.x/advanced-usage.html#ssl-warnings\n",
      "  warnings.warn(\n",
      "/Users/paul.leitner/miniforge3/envs/text_preparation/lib/python3.10/site-packages/urllib3/connectionpool.py:1045: InsecureRequestWarning: Unverified HTTPS request is being made to host 'localhost'. Adding certificate verification is strongly advised. See: https://urllib3.readthedocs.io/en/1.26.x/advanced-usage.html#ssl-warnings\n",
      "  warnings.warn(\n",
      "/Users/paul.leitner/miniforge3/envs/text_preparation/lib/python3.10/site-packages/urllib3/connectionpool.py:1045: InsecureRequestWarning: Unverified HTTPS request is being made to host 'localhost'. Adding certificate verification is strongly advised. See: https://urllib3.readthedocs.io/en/1.26.x/advanced-usage.html#ssl-warnings\n",
      "  warnings.warn(\n",
      "/Users/paul.leitner/miniforge3/envs/text_preparation/lib/python3.10/site-packages/urllib3/connectionpool.py:1045: InsecureRequestWarning: Unverified HTTPS request is being made to host 'localhost'. Adding certificate verification is strongly advised. See: https://urllib3.readthedocs.io/en/1.26.x/advanced-usage.html#ssl-warnings\n",
      "  warnings.warn(\n"
     ]
    }
   ],
   "source": [
    "ds = OpenSearchDocumentStore()"
   ]
  },
  {
   "cell_type": "code",
   "execution_count": 49,
   "id": "77f7cf23",
   "metadata": {},
   "outputs": [],
   "source": [
    "with open('./data/processed_reviews.parquet', mode='rb') as file:\n",
    "    df = pd.read_parquet(file)\n",
    "    \n",
    "with open('./industry_mapping.csv', mode='r') as file:\n",
    "    df_industry = pd.read_csv(file)\n",
    "    df_industry.rename(columns={i: f'industry_{i}' for i in df_industry.columns}, inplace=True)\n"
   ]
  },
  {
   "cell_type": "code",
   "execution_count": 52,
   "id": "e16c7672",
   "metadata": {},
   "outputs": [],
   "source": [
    "df = pd.merge(df.loc[~df['profile_industry_id'].isna()], df_industry[['industry_id', 'industry_name']], how='inner', left_on='profile_industry_id', right_on='industry_id')"
   ]
  },
  {
   "cell_type": "code",
   "execution_count": 53,
   "id": "b67b5114",
   "metadata": {},
   "outputs": [
    {
     "data": {
      "text/plain": [
       "{'review_uuid': '56beb7dc-3973-486e-8924-7ec6fedd32c0',\n",
       " 'company_id': 222766,\n",
       " 'review_type': 'employee_review',\n",
       " 'review_creation_date': Timestamp('2021-08-25 14:16:36+0000', tz='UTC'),\n",
       " 'active': '1',\n",
       " 'active_part': 'alles',\n",
       " 'total_score': 4.3333,\n",
       " 's_1': 4.0,\n",
       " 's_2': 5.0,\n",
       " 's_3': 5.0,\n",
       " 's_4': 4.0,\n",
       " 's_5': 4.0,\n",
       " 's_6': 5.0,\n",
       " 's_7': nan,\n",
       " 's_8': 4.0,\n",
       " 's_9': 4.0,\n",
       " 's_10': 4.0,\n",
       " 's_11': nan,\n",
       " 's_12': nan,\n",
       " 's_13': nan,\n",
       " 's_14': nan,\n",
       " 's_15': nan,\n",
       " 's_16': nan,\n",
       " 's_17': nan,\n",
       " 's_18': nan,\n",
       " 'job_status': 'REVIEW_STATUS_EX',\n",
       " 'comment': None,\n",
       " 'comment_1': 'Er hilft einem auch im privaten Bereich wenn es die Möglichkeit gibt.',\n",
       " 'comment_2': None,\n",
       " 'text_s1': 'ziele realistisch gesetzt teilweise übertroffen entscheidungen manchmal nicht nachvollziehbar irgendwie funtionieren etscheidungen trotzdem',\n",
       " 'text_s2': 'kollegen halten gut zusammen macht echt spass',\n",
       " 'text_s3': 'abwechslungsreich endergebniss passt darf arbeit möchte',\n",
       " 'text_s4': 'firmenleitung legt wert positive arbeitsatmosphäre',\n",
       " 'text_s5': 'komunikation kommt kurz liegt vileicht daran firma schnell wächst momentan zeit dafür fehlt',\n",
       " 'text_s6': 'gibt gar unterschiede',\n",
       " 'text_s7': None,\n",
       " 'text_s8': 'gehälter bewegen normalen bereich gehälter kommen absolut pünktlich',\n",
       " 'text_s9': 'umständen entsprechend vieles dafür getan wohlfühlen',\n",
       " 'text_s10': 'normalen rahmen urlaube mitarbeitern ausgemacht',\n",
       " 'text_s11': None,\n",
       " 'text_s12': None,\n",
       " 'text_s13': None,\n",
       " 'text_s14': None,\n",
       " 'text_s15': None,\n",
       " 'text_s16': None,\n",
       " 'text_s17': None,\n",
       " 'text_s18': None,\n",
       " 'texts_count': 10,\n",
       " 'improvement_text': 'wünschenswert wäre mehr gemeinsam unternimmt privaten bereich',\n",
       " 'profile_uuid': '935ba3f0-d4ca-42e7-ab8f-566ea26b4e84',\n",
       " 'company_name': 'DALOUAL GbR Ambiente & Design',\n",
       " 'company_stadt': 'Schwäbisch Hall',\n",
       " 'profile_ebp_status': 'NONE',\n",
       " 'profile_industry_id': 29,\n",
       " 'profile_weighted_total': 3.829,\n",
       " 'profile_url_short': '/de/daloual-ambiente-design',\n",
       " 'review_url': 'www.kununu.com/de/daloual-ambiente-design/bewertung/56beb7dc-3973-486e-8924-7ec6fedd32c0',\n",
       " 'text_s1_original': 'Ziele werden realistisch gesetzt und auch teilweise übertroffen. Die entscheidungen sind für mich manchmal nicht nachvollziehbar aber irgendwie funtionieren die Etscheidungen trotzdem.',\n",
       " 'text_s1_len': 22.0,\n",
       " 'text_s1_language': 'de',\n",
       " 'text_s1_language_confidence': 0.9896456599235535,\n",
       " 'text_s2_original': 'Die Kollegen halten sehr gut zusammen und es macht echt Spass.',\n",
       " 'text_s2_len': 11.0,\n",
       " 'text_s2_language': 'de',\n",
       " 'text_s2_language_confidence': 0.9576327204704285,\n",
       " 'text_s3_original': 'Sehr abwechslungsreich. Wenn das Endergebniss passt darf ich meine Arbeit machen wie ich möchte.',\n",
       " 'text_s3_len': 14.0,\n",
       " 'text_s3_language': 'de',\n",
       " 'text_s3_language_confidence': 0.9964852929115295,\n",
       " 'text_s4_original': 'Die Firmenleitung legt sehr viel Wert auf eine positive Arbeitsatmosphäre.',\n",
       " 'text_s4_len': 10.0,\n",
       " 'text_s4_language': 'de',\n",
       " 'text_s4_language_confidence': 0.9044403433799744,\n",
       " 'text_s5_original': 'Die komunikation kommt etwas zu kurz aber das liegt vileicht auch daran das die Firma sehr schnell wächst und momentan die Zeit dafür fehlt.',\n",
       " 'text_s5_len': 24.0,\n",
       " 'text_s5_language': 'de',\n",
       " 'text_s5_language_confidence': 0.9916580319404602,\n",
       " 'text_s6_original': 'Gibt gar keine Unterschiede.',\n",
       " 'text_s6_len': 4.0,\n",
       " 'text_s6_language': 'de',\n",
       " 'text_s6_language_confidence': 0.9983447790145874,\n",
       " 'text_s7_original': None,\n",
       " 'text_s7_len': nan,\n",
       " 'text_s7_language': None,\n",
       " 'text_s7_language_confidence': nan,\n",
       " 'text_s8_original': 'Die gehälter bewegen sich im normalen Bereich. Gehälter kommen absolut pünktlich.',\n",
       " 'text_s8_len': 11.0,\n",
       " 'text_s8_language': 'de',\n",
       " 'text_s8_language_confidence': 0.976627767086029,\n",
       " 'text_s9_original': 'Den Umständen entsprechend wir vieles dafür getan das wir uns hier wohlfühlen.',\n",
       " 'text_s9_len': 12.0,\n",
       " 'text_s9_language': 'de',\n",
       " 'text_s9_language_confidence': 0.993574321269989,\n",
       " 'text_s10_original': 'Alles im normalen Rahmen. Urlaube werden unter den Mitarbeitern selbst ausgemacht.',\n",
       " 'text_s10_len': 11.0,\n",
       " 'text_s10_language': 'de',\n",
       " 'text_s10_language_confidence': 0.9746646881103516,\n",
       " 'text_s11_original': None,\n",
       " 'text_s11_len': nan,\n",
       " 'text_s11_language': None,\n",
       " 'text_s11_language_confidence': nan,\n",
       " 'text_s12_original': None,\n",
       " 'text_s12_len': nan,\n",
       " 'text_s12_language': None,\n",
       " 'text_s12_language_confidence': nan,\n",
       " 'text_s13_original': None,\n",
       " 'text_s13_len': nan,\n",
       " 'text_s13_language': None,\n",
       " 'text_s13_language_confidence': nan,\n",
       " 'text_s14_original': None,\n",
       " 'text_s14_len': nan,\n",
       " 'text_s14_language': None,\n",
       " 'text_s14_language_confidence': nan,\n",
       " 'text_s15_original': None,\n",
       " 'text_s15_len': nan,\n",
       " 'text_s15_language': None,\n",
       " 'text_s15_language_confidence': nan,\n",
       " 'text_s16_original': None,\n",
       " 'text_s16_len': nan,\n",
       " 'text_s16_language': None,\n",
       " 'text_s16_language_confidence': nan,\n",
       " 'text_s17_original': None,\n",
       " 'text_s17_len': nan,\n",
       " 'text_s17_language': None,\n",
       " 'text_s17_language_confidence': nan,\n",
       " 'text_s18_original': None,\n",
       " 'text_s18_len': nan,\n",
       " 'text_s18_language': None,\n",
       " 'text_s18_language_confidence': nan,\n",
       " 'improvement_text_original': 'Wünschenswert wäre das man etwas mehr gemeinsam unternimmt im privaten Bereich.',\n",
       " 'improvement_text_len': 11.0,\n",
       " 'improvement_text_language': 'de',\n",
       " 'improvement_text_language_confidence': 0.9971351623535156,\n",
       " 'industry_id': 29,\n",
       " 'industry_name': 'sonstige Branchen'}"
      ]
     },
     "execution_count": 53,
     "metadata": {},
     "output_type": "execute_result"
    }
   ],
   "source": [
    "df.iloc[0].to_dict()"
   ]
  },
  {
   "cell_type": "code",
   "execution_count": 9,
   "id": "42732d4e",
   "metadata": {},
   "outputs": [
    {
     "data": {
      "text/plain": [
       "company_name\n",
       "FERCHAU GmbH                                 499\n",
       "Netto Marken-Discount AG & Co. KG            439\n",
       "ALDI SÜD                                     343\n",
       "Hays                                         287\n",
       "TEDi GmbH & Co. KG                           285\n",
       "                                            ... \n",
       "Rudnick GmbH                                   1\n",
       "GEUM.tec GmbH                                  1\n",
       "Rudolf Dorsch                                  1\n",
       "GETTO INNENARCHITEKTUR                         1\n",
       "MWG - Wohnungsgenossenschaft eG Magdeburg      1\n",
       "Length: 127780, dtype: int64"
      ]
     },
     "execution_count": 9,
     "metadata": {},
     "output_type": "execute_result"
    }
   ],
   "source": [
    "df.loc[df['text_s1_len'] > 10].groupby(by='company_name').size().sort_values(ascending=False)"
   ]
  },
  {
   "cell_type": "code",
   "execution_count": 17,
   "id": "a5db7e03",
   "metadata": {},
   "outputs": [
    {
     "data": {
      "text/plain": [
       "'304de031-0ca6-45fe-b57e-99209d358551'"
      ]
     },
     "execution_count": 17,
     "metadata": {},
     "output_type": "execute_result"
    }
   ],
   "source": [
    "df.loc[df['company_name'] == 'FERCHAU GmbH', 'profile_uuid', 'job_status'].iloc[0]"
   ]
  },
  {
   "cell_type": "code",
   "execution_count": 22,
   "id": "331422c6",
   "metadata": {},
   "outputs": [],
   "source": [
    "most_texts = '304de031-0ca6-45fe-b57e-99209d358551'"
   ]
  },
  {
   "cell_type": "code",
   "execution_count": 54,
   "id": "268dff73",
   "metadata": {},
   "outputs": [],
   "source": [
    "relevant_cols = [\n",
    "    'text_s1', \n",
    "    'text_s1_original', \n",
    "    's_1',\n",
    "    'profile_ebp_status',\n",
    "    'profile_industry_id',\n",
    "    'profile_weighted_total',\n",
    "    'review_url',\n",
    "    'industry_name']"
   ]
  },
  {
   "cell_type": "code",
   "execution_count": 55,
   "id": "2aaf9f2f",
   "metadata": {},
   "outputs": [],
   "source": [
    "df = df.loc[\n",
    "    (df['profile_uuid'] == most_texts) & \n",
    "    (df['text_s1_len'] >= 20) &\n",
    "    (df['text_s1_language'] == 'de') &\n",
    "    (df['text_s1_language_confidence'] >= .75), \n",
    "    relevant_cols]"
   ]
  },
  {
   "cell_type": "code",
   "execution_count": 56,
   "id": "f1d0104a",
   "metadata": {},
   "outputs": [
    {
     "data": {
      "text/plain": [
       "{814914: {'text_s1': 'eingehen zugehen mitarbeiter dankeschön gute laufende projekte bzw anerkennung gehör weiterbildungen dabei heisst slogan bringen',\n",
       "  'text_s1_original': 'Kein eingehen und zugehen auf die Mitarbeiter. Keine Dankeschön für gute laufende Projekte bzw. keine Anerkennung. Kein Gehör für Weiterbildungen. Dabei heißt es im Slogan \"Wir bringen sie weiter\". ',\n",
       "  's_1': 1.0,\n",
       "  'profile_ebp_status': 'EBP_PRO',\n",
       "  'profile_industry_id': 38,\n",
       "  'profile_weighted_total': 4.0774,\n",
       "  'review_url': 'www.kununu.com/de/ferchau/bewertung/c152d20e-9d18-4088-ba95-9ef1a8ef61db',\n",
       "  'industry_name': 'Dienstleistung'},\n",
       " 815041: {'text_s1': 'inkompetentes verhalten führungsebene bspw kollegen bevorzugt gegeneinander ausgespielt schlecht gemacht schwächen stark hervorgehoben statt potenzial fördern umdenken nötig',\n",
       "  'text_s1_original': 'Inkompetentes Verhalten der Führungsebene. Bspw. werden manche Kollegen bevorzugt, gegeneinander ausgespielt oder vor anderen schlecht gemacht. Schwächen werden stark hervorgehoben statt Potenzial zu fördern. Ein Umdenken ist nötig!',\n",
       "  's_1': 1.0,\n",
       "  'profile_ebp_status': 'EBP_PRO',\n",
       "  'profile_industry_id': 38,\n",
       "  'profile_weighted_total': 4.0774,\n",
       "  'review_url': 'www.kununu.com/de/ferchau/bewertung/aa73b87a-abf2-4453-aca4-8cd1b7ea03b5',\n",
       "  'industry_name': 'Dienstleistung'}}"
      ]
     },
     "execution_count": 56,
     "metadata": {},
     "output_type": "execute_result"
    }
   ],
   "source": [
    "# orientstr {‘dict’, ‘list’, ‘series’, ‘split’, ‘tight’, ‘records’, ‘index’}\n",
    "df.iloc[:2].to_dict(orient='index')"
   ]
  },
  {
   "cell_type": "code",
   "execution_count": 23,
   "id": "1a2bb22b",
   "metadata": {},
   "outputs": [
    {
     "data": {
      "text/html": [
       "<div>\n",
       "<style scoped>\n",
       "    .dataframe tbody tr th:only-of-type {\n",
       "        vertical-align: middle;\n",
       "    }\n",
       "\n",
       "    .dataframe tbody tr th {\n",
       "        vertical-align: top;\n",
       "    }\n",
       "\n",
       "    .dataframe thead th {\n",
       "        text-align: right;\n",
       "    }\n",
       "</style>\n",
       "<table border=\"1\" class=\"dataframe\">\n",
       "  <thead>\n",
       "    <tr style=\"text-align: right;\">\n",
       "      <th></th>\n",
       "      <th>text_s1</th>\n",
       "      <th>text_s1_original</th>\n",
       "      <th>s_1</th>\n",
       "      <th>profile_ebp_status</th>\n",
       "      <th>profile_industry_id</th>\n",
       "      <th>profile_weighted_total</th>\n",
       "    </tr>\n",
       "  </thead>\n",
       "  <tbody>\n",
       "    <tr>\n",
       "      <th>9632</th>\n",
       "      <td>eingehen zugehen mitarbeiter dankeschön gute laufende projekte bzw anerkennu...</td>\n",
       "      <td>Kein eingehen und zugehen auf die Mitarbeiter. Keine Dankeschön für gute lau...</td>\n",
       "      <td>1.0</td>\n",
       "      <td>EBP_PRO</td>\n",
       "      <td>38</td>\n",
       "      <td>4.0774</td>\n",
       "    </tr>\n",
       "    <tr>\n",
       "      <th>11714</th>\n",
       "      <td>inkompetentes verhalten führungsebene bspw kollegen bevorzugt gegeneinander ...</td>\n",
       "      <td>Inkompetentes Verhalten der Führungsebene. Bspw. werden manche Kollegen bevo...</td>\n",
       "      <td>1.0</td>\n",
       "      <td>EBP_PRO</td>\n",
       "      <td>38</td>\n",
       "      <td>4.0774</td>\n",
       "    </tr>\n",
       "    <tr>\n",
       "      <th>20302</th>\n",
       "      <td>gros funktionen vorgesetzter ausübt quasi vorgesetzten beim kunden ausgeführ...</td>\n",
       "      <td>Das Gros der Funktionen, die ein Vorgesetzter ausübt, wird durch den quasi-V...</td>\n",
       "      <td>5.0</td>\n",
       "      <td>EBP_PRO</td>\n",
       "      <td>38</td>\n",
       "      <td>4.0774</td>\n",
       "    </tr>\n",
       "    <tr>\n",
       "      <th>21547</th>\n",
       "      <td>normalerweise gut vorgesetzt zeit mal gewechselt eigentlicher vorgesetzt wur...</td>\n",
       "      <td>Normalerweise gut. Mein Vorgesetzt.er hat sich in der Zeit 3 mal gewechselt....</td>\n",
       "      <td>1.0</td>\n",
       "      <td>EBP_PRO</td>\n",
       "      <td>38</td>\n",
       "      <td>4.0774</td>\n",
       "    </tr>\n",
       "    <tr>\n",
       "      <th>24272</th>\n",
       "      <td>merkt vertrieblern tun porsche verkauft bekommt alten twingo ansonsten zulet...</td>\n",
       "      <td>Man merkt, dass man es mit Vertrieblern zu tun hat. Einem wird ein Porsche v...</td>\n",
       "      <td>1.0</td>\n",
       "      <td>EBP_PRO</td>\n",
       "      <td>38</td>\n",
       "      <td>4.0774</td>\n",
       "    </tr>\n",
       "  </tbody>\n",
       "</table>\n",
       "</div>"
      ],
      "text/plain": [
       "                                                                               text_s1  \\\n",
       "9632   eingehen zugehen mitarbeiter dankeschön gute laufende projekte bzw anerkennu...   \n",
       "11714  inkompetentes verhalten führungsebene bspw kollegen bevorzugt gegeneinander ...   \n",
       "20302  gros funktionen vorgesetzter ausübt quasi vorgesetzten beim kunden ausgeführ...   \n",
       "21547  normalerweise gut vorgesetzt zeit mal gewechselt eigentlicher vorgesetzt wur...   \n",
       "24272  merkt vertrieblern tun porsche verkauft bekommt alten twingo ansonsten zulet...   \n",
       "\n",
       "                                                                      text_s1_original  \\\n",
       "9632   Kein eingehen und zugehen auf die Mitarbeiter. Keine Dankeschön für gute lau...   \n",
       "11714  Inkompetentes Verhalten der Führungsebene. Bspw. werden manche Kollegen bevo...   \n",
       "20302  Das Gros der Funktionen, die ein Vorgesetzter ausübt, wird durch den quasi-V...   \n",
       "21547  Normalerweise gut. Mein Vorgesetzt.er hat sich in der Zeit 3 mal gewechselt....   \n",
       "24272  Man merkt, dass man es mit Vertrieblern zu tun hat. Einem wird ein Porsche v...   \n",
       "\n",
       "       s_1 profile_ebp_status  profile_industry_id  profile_weighted_total  \n",
       "9632   1.0            EBP_PRO                   38                  4.0774  \n",
       "11714  1.0            EBP_PRO                   38                  4.0774  \n",
       "20302  5.0            EBP_PRO                   38                  4.0774  \n",
       "21547  1.0            EBP_PRO                   38                  4.0774  \n",
       "24272  1.0            EBP_PRO                   38                  4.0774  "
      ]
     },
     "execution_count": 23,
     "metadata": {},
     "output_type": "execute_result"
    }
   ],
   "source": [
    "df.head()"
   ]
  },
  {
   "cell_type": "code",
   "execution_count": 77,
   "id": "499af73c",
   "metadata": {},
   "outputs": [],
   "source": [
    "def to_documents(\n",
    "    data: pd.DataFrame, column_name: str = 's1') -> list[Document]:\n",
    "    \n",
    "    result = list()\n",
    "    \n",
    "    for index, values in data.to_dict(orient='index').items():\n",
    "        d = Document(\n",
    "            id=str(index),\n",
    "            content=values[f'text_{column_name}_original'],\n",
    "            meta={\n",
    "                'stars': values[f's_{column_name[1:]}'], \n",
    "                'ebp': values['profile_ebp_status'], \n",
    "                'industry': values['industry_name'],\n",
    "                'review_url': values['review_url'],\n",
    "                'stars_profile': values['profile_weighted_total']})\n",
    "        \n",
    "        result.append(d)\n",
    "        \n",
    "        # todo: paragraph split\n",
    "    \n",
    "    return result"
   ]
  },
  {
   "cell_type": "code",
   "execution_count": 78,
   "id": "f0a707ee",
   "metadata": {},
   "outputs": [
    {
     "data": {
      "text/plain": [
       "<Document: {'content': 'Kein eingehen und zugehen auf die Mitarbeiter. Keine Dankeschön für gute laufende Projekte bzw. keine Anerkennung. Kein Gehör für Weiterbildungen. Dabei heißt es im Slogan \"Wir bringen sie weiter\". ', 'content_type': 'text', 'score': None, 'meta': {'stars': 1.0, 'ebp': 'EBP_PRO', 'industry': 38, 'stars_profile': 4.0774}, 'embedding': None, 'id': '9632'}>"
      ]
     },
     "execution_count": 78,
     "metadata": {},
     "output_type": "execute_result"
    }
   ],
   "source": [
    "to_documents(df.head())[0]"
   ]
  },
  {
   "cell_type": "code",
   "execution_count": 40,
   "id": "823d2414",
   "metadata": {},
   "outputs": [
    {
     "name": "stderr",
     "output_type": "stream",
     "text": [
      "/Users/paul.leitner/miniforge3/envs/text_preparation/lib/python3.10/site-packages/urllib3/connectionpool.py:1045: InsecureRequestWarning: Unverified HTTPS request is being made to host 'localhost'. Adding certificate verification is strongly advised. See: https://urllib3.readthedocs.io/en/1.26.x/advanced-usage.html#ssl-warnings\n",
      "  warnings.warn(\n"
     ]
    }
   ],
   "source": [
    "ds.write_documents(to_documents(df))"
   ]
  },
  {
   "cell_type": "code",
   "execution_count": 5,
   "id": "4d66b290",
   "metadata": {},
   "outputs": [],
   "source": [
    "from haystack.nodes import BM25Retriever\n",
    "\n",
    "\n",
    "retriever = BM25Retriever(document_store=ds)"
   ]
  },
  {
   "cell_type": "code",
   "execution_count": 3,
   "id": "21d064e9",
   "metadata": {},
   "outputs": [
    {
     "data": {
      "application/json": {
       "ascii": false,
       "bar_format": null,
       "colour": null,
       "elapsed": 0.029220104217529297,
       "initial": 0,
       "n": 0,
       "ncols": null,
       "nrows": 65,
       "postfix": null,
       "prefix": "Downloading config.json",
       "rate": null,
       "total": 743,
       "unit": "B",
       "unit_divisor": 1024,
       "unit_scale": true
      },
      "application/vnd.jupyter.widget-view+json": {
       "model_id": "ccb2aaf726c94ed78d518ac223c112d3",
       "version_major": 2,
       "version_minor": 0
      },
      "text/plain": [
       "Downloading config.json:   0%|          | 0.00/743 [00:00<?, ?B/s]"
      ]
     },
     "metadata": {},
     "output_type": "display_data"
    },
    {
     "data": {
      "application/json": {
       "ascii": false,
       "bar_format": null,
       "colour": null,
       "elapsed": 0.016157150268554688,
       "initial": 0,
       "n": 0,
       "ncols": null,
       "nrows": 65,
       "postfix": null,
       "prefix": "Downloading pytorch_model.bin",
       "rate": null,
       "total": 1338920247,
       "unit": "B",
       "unit_divisor": 1024,
       "unit_scale": true
      },
      "application/vnd.jupyter.widget-view+json": {
       "model_id": "c84346677faa4398ad54b09d150579fe",
       "version_major": 2,
       "version_minor": 0
      },
      "text/plain": [
       "Downloading pytorch_model.bin:   0%|          | 0.00/1.25G [00:00<?, ?B/s]"
      ]
     },
     "metadata": {},
     "output_type": "display_data"
    },
    {
     "data": {
      "application/json": {
       "ascii": false,
       "bar_format": null,
       "colour": null,
       "elapsed": 0.027239084243774414,
       "initial": 0,
       "n": 0,
       "ncols": null,
       "nrows": 65,
       "postfix": null,
       "prefix": "Downloading tokenizer_config.json",
       "rate": null,
       "total": 359,
       "unit": "B",
       "unit_divisor": 1024,
       "unit_scale": true
      },
      "application/vnd.jupyter.widget-view+json": {
       "model_id": "7662190ca7a34a9cae41d6c1ea544114",
       "version_major": 2,
       "version_minor": 0
      },
      "text/plain": [
       "Downloading tokenizer_config.json:   0%|          | 0.00/359 [00:00<?, ?B/s]"
      ]
     },
     "metadata": {},
     "output_type": "display_data"
    },
    {
     "data": {
      "application/json": {
       "ascii": false,
       "bar_format": null,
       "colour": null,
       "elapsed": 0.025796890258789062,
       "initial": 0,
       "n": 0,
       "ncols": null,
       "nrows": 65,
       "postfix": null,
       "prefix": "Downloading vocab.txt",
       "rate": null,
       "total": 239836,
       "unit": "B",
       "unit_divisor": 1024,
       "unit_scale": true
      },
      "application/vnd.jupyter.widget-view+json": {
       "model_id": "314775f15abc496eae7da4e404096831",
       "version_major": 2,
       "version_minor": 0
      },
      "text/plain": [
       "Downloading vocab.txt:   0%|          | 0.00/234k [00:00<?, ?B/s]"
      ]
     },
     "metadata": {},
     "output_type": "display_data"
    },
    {
     "data": {
      "application/json": {
       "ascii": false,
       "bar_format": null,
       "colour": null,
       "elapsed": 0.026443004608154297,
       "initial": 0,
       "n": 0,
       "ncols": null,
       "nrows": 65,
       "postfix": null,
       "prefix": "Downloading special_tokens_map.json",
       "rate": null,
       "total": 112,
       "unit": "B",
       "unit_divisor": 1024,
       "unit_scale": true
      },
      "application/vnd.jupyter.widget-view+json": {
       "model_id": "3ccd83ee0aa342f8967bcc55b8927529",
       "version_major": 2,
       "version_minor": 0
      },
      "text/plain": [
       "Downloading special_tokens_map.json:   0%|          | 0.00/112 [00:00<?, ?B/s]"
      ]
     },
     "metadata": {},
     "output_type": "display_data"
    }
   ],
   "source": [
    "from haystack.nodes import FARMReader\n",
    "\n",
    "# Load a  local model or any of the QA models on\n",
    "# Hugging Face's model hub (https://huggingface.co/models)\n",
    "\n",
    "#reader = FARMReader(model_name_or_path=\"deepset/roberta-base-squad2\", use_gpu=True)\n",
    "reader = FARMReader(model_name_or_path=\"deepset/gelectra-large-germanquad\", use_gpu=True)\n"
   ]
  },
  {
   "cell_type": "code",
   "execution_count": 6,
   "id": "2cd31333",
   "metadata": {},
   "outputs": [],
   "source": [
    "from haystack.pipelines import ExtractiveQAPipeline\n",
    "\n",
    "pipe = ExtractiveQAPipeline(reader, retriever)"
   ]
  },
  {
   "cell_type": "code",
   "execution_count": 15,
   "id": "167d4d4b",
   "metadata": {},
   "outputs": [
    {
     "name": "stderr",
     "output_type": "stream",
     "text": [
      "/Users/paul.leitner/miniforge3/envs/text_preparation/lib/python3.10/site-packages/urllib3/connectionpool.py:1045: InsecureRequestWarning: Unverified HTTPS request is being made to host 'localhost'. Adding certificate verification is strongly advised. See: https://urllib3.readthedocs.io/en/1.26.x/advanced-usage.html#ssl-warnings\n",
      "  warnings.warn(\n",
      "Inferencing Samples: 100%|████████████████████████████████████████████████████████████████████████████████████████████████████████████████████████████████████████████████████████████████████████████████| 1/1 [00:02<00:00,  2.66s/ Batches]\n"
     ]
    }
   ],
   "source": [
    "from pprint import pprint\n",
    "\n",
    "# You can configure how many candidates the Reader and Retriever shall return\n",
    "# The higher top_k_retriever, the better (but also the slower) your answers.\n",
    "prediction = pipe.run(\n",
    "    query=\"sind vorgesetzte authentisch?\", params={\"Retriever\": {\"top_k\": 10}, \"Reader\": {\"top_k\": 5}})\n",
    "#pprint(prediction)"
   ]
  },
  {
   "cell_type": "code",
   "execution_count": 16,
   "id": "34543394",
   "metadata": {},
   "outputs": [
    {
     "name": "stdout",
     "output_type": "stream",
     "text": [
      "\n",
      "{'answer': 'Vorgesetzte versuchen sich dem sog. Mainstream entsprechend zu '\n",
      "           'Verhalten und sind hierdurch nicht authentisch',\n",
      " 'context': 'Vorgesetzte versuchen sich dem sog. Mainstream entsprechend zu '\n",
      "            'Verhalten und sind hierdurch nicht authentisch. Viele Vorgesetzte '\n",
      "            'beim Kunden besitzen ',\n",
      " 'document_id': '662395',\n",
      " 'meta': {'ebp': 'EBP_PRO',\n",
      "          'industry': 38,\n",
      "          'stars': 3.0,\n",
      "          'stars_profile': 4.0774},\n",
      " 'offsets_in_context': [{'end': 109, 'start': 0}],\n",
      " 'offsets_in_document': [{'end': 109, 'start': 0}],\n",
      " 'score': 0.7375724911689758,\n",
      " 'type': 'extractive'}\n",
      "\n",
      "{'answer': 'Vorgesetzte gehen in Konfliktsituation mit der Situation souverän '\n",
      "           'um, sind offen für alternativ Vorschläge der Mitarbeiter offen, '\n",
      "           'hören sich diese an und beziehen die Mitarbeiter bis zu einem '\n",
      "           'Bestimmten Grad mit in die Entscheidungen mit ein.',\n",
      " 'context': 'Vorgesetzte gehen in Konfliktsituation mit der Situation souverän '\n",
      "            'um, sind offen für alternativ Vorschläge der Mitarbeiter offen, '\n",
      "            'hören sich diese an und beziehen die Mitarbeiter bis zu einem '\n",
      "            'Bestimmten Grad mit in die Entscheidungen mit ein.',\n",
      " 'document_id': '846168',\n",
      " 'meta': {'ebp': 'EBP_PRO',\n",
      "          'industry': 38,\n",
      "          'stars': 5.0,\n",
      "          'stars_profile': 4.0774},\n",
      " 'offsets_in_context': [{'end': 242, 'start': 0}],\n",
      " 'offsets_in_document': [{'end': 242, 'start': 0}],\n",
      " 'score': 0.13808809220790863,\n",
      " 'type': 'extractive'}\n",
      "\n",
      "{'answer': 'Zudem kam es vor, dass sich Vorgesetzte bei Kollegen über das '\n",
      "           'Arbeitsverhalten eines nicht anwesenden Kollegen auslassen und das '\n",
      "           'nicht im Positiven',\n",
      " 'context': '. Zudem kam es vor, dass sich Vorgesetzte bei Kollegen über das '\n",
      "            'Arbeitsverhalten eines nicht anwesenden Kollegen auslassen und '\n",
      "            'das nicht im Positiven.',\n",
      " 'document_id': '1592946',\n",
      " 'meta': {'ebp': 'EBP_PRO',\n",
      "          'industry': 38,\n",
      "          'stars': 2.0,\n",
      "          'stars_profile': 4.0774},\n",
      " 'offsets_in_context': [{'end': 149, 'start': 2}],\n",
      " 'offsets_in_document': [{'end': 502, 'start': 355}],\n",
      " 'score': 0.13559558987617493,\n",
      " 'type': 'extractive'}\n",
      "\n",
      "{'answer': 'Ich habe bis jetzt noch keinen Kollegen getroffen, der sich als '\n",
      "           'Vorgesetzter aufspielt',\n",
      " 'context': 'Ich habe bis jetzt noch keinen Kollegen getroffen, der sich als '\n",
      "            'Vorgesetzter aufspielt. Wir sind alle Teammitglieder mit '\n",
      "            'unterschiedlichen Aufgaben.',\n",
      " 'document_id': '1150443',\n",
      " 'meta': {'ebp': 'EBP_PRO',\n",
      "          'industry': 38,\n",
      "          'stars': 5.0,\n",
      "          'stars_profile': 4.0774},\n",
      " 'offsets_in_context': [{'end': 86, 'start': 0}],\n",
      " 'offsets_in_document': [{'end': 86, 'start': 0}],\n",
      " 'score': 0.09859909117221832,\n",
      " 'type': 'extractive'}\n",
      "\n",
      "{'answer': 'Vorgesetzte sind eben nur Menschen. Aber in der Regel wird die '\n",
      "           'Strategie der Situation angepasst.',\n",
      " 'context': 'lentscheidung kommen vor . Vorgesetzte sind eben nur Menschen. '\n",
      "            'Aber in der Regel wird die Strategie der Situation angepasst. Es '\n",
      "            'wird versucht, die Mit',\n",
      " 'document_id': '1054356',\n",
      " 'meta': {'ebp': 'EBP_PRO',\n",
      "          'industry': 38,\n",
      "          'stars': 3.0,\n",
      "          'stars_profile': 4.0774},\n",
      " 'offsets_in_context': [{'end': 124, 'start': 27}],\n",
      " 'offsets_in_document': [{'end': 127, 'start': 30}],\n",
      " 'score': 0.08181139826774597,\n",
      " 'type': 'extractive'}\n"
     ]
    }
   ],
   "source": [
    "for i in prediction['answers'][:5]:\n",
    "    print()\n",
    "    pprint(i.to_dict())"
   ]
  },
  {
   "cell_type": "code",
   "execution_count": null,
   "id": "8e025c04",
   "metadata": {},
   "outputs": [],
   "source": []
  }
 ],
 "metadata": {
  "kernelspec": {
   "display_name": "Python 3 (ipykernel)",
   "language": "python",
   "name": "python3"
  },
  "language_info": {
   "codemirror_mode": {
    "name": "ipython",
    "version": 3
   },
   "file_extension": ".py",
   "mimetype": "text/x-python",
   "name": "python",
   "nbconvert_exporter": "python",
   "pygments_lexer": "ipython3",
   "version": "3.10.5"
  }
 },
 "nbformat": 4,
 "nbformat_minor": 5
}
