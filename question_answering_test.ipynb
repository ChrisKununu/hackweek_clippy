{
 "cells": [
  {
   "cell_type": "code",
   "execution_count": 24,
   "id": "c49241f0",
   "metadata": {},
   "outputs": [],
   "source": [
    "import pandas as pd\n",
    "from haystack.document_stores import OpenSearchDocumentStore\n",
    "from haystack.schema import Document"
   ]
  },
  {
   "cell_type": "code",
   "execution_count": 2,
   "id": "66734a60",
   "metadata": {},
   "outputs": [
    {
     "name": "stderr",
     "output_type": "stream",
     "text": [
      "/Users/paul.leitner/miniforge3/envs/text_preparation/lib/python3.10/site-packages/opensearchpy/connection/http_urllib3.py:208: UserWarning: Connecting to https://localhost:9200 using SSL with verify_certs=False is insecure.\n",
      "  warnings.warn(\n",
      "/Users/paul.leitner/miniforge3/envs/text_preparation/lib/python3.10/site-packages/urllib3/connectionpool.py:1045: InsecureRequestWarning: Unverified HTTPS request is being made to host 'localhost'. Adding certificate verification is strongly advised. See: https://urllib3.readthedocs.io/en/1.26.x/advanced-usage.html#ssl-warnings\n",
      "  warnings.warn(\n",
      "WARNING:opensearch:GET https://localhost:9200/document [status:404 request:0.546s]\n",
      "/Users/paul.leitner/miniforge3/envs/text_preparation/lib/python3.10/site-packages/urllib3/connectionpool.py:1045: InsecureRequestWarning: Unverified HTTPS request is being made to host 'localhost'. Adding certificate verification is strongly advised. See: https://urllib3.readthedocs.io/en/1.26.x/advanced-usage.html#ssl-warnings\n",
      "  warnings.warn(\n",
      "/Users/paul.leitner/miniforge3/envs/text_preparation/lib/python3.10/site-packages/urllib3/connectionpool.py:1045: InsecureRequestWarning: Unverified HTTPS request is being made to host 'localhost'. Adding certificate verification is strongly advised. See: https://urllib3.readthedocs.io/en/1.26.x/advanced-usage.html#ssl-warnings\n",
      "  warnings.warn(\n",
      "/Users/paul.leitner/miniforge3/envs/text_preparation/lib/python3.10/site-packages/urllib3/connectionpool.py:1045: InsecureRequestWarning: Unverified HTTPS request is being made to host 'localhost'. Adding certificate verification is strongly advised. See: https://urllib3.readthedocs.io/en/1.26.x/advanced-usage.html#ssl-warnings\n",
      "  warnings.warn(\n",
      "/Users/paul.leitner/miniforge3/envs/text_preparation/lib/python3.10/site-packages/urllib3/connectionpool.py:1045: InsecureRequestWarning: Unverified HTTPS request is being made to host 'localhost'. Adding certificate verification is strongly advised. See: https://urllib3.readthedocs.io/en/1.26.x/advanced-usage.html#ssl-warnings\n",
      "  warnings.warn(\n",
      "/Users/paul.leitner/miniforge3/envs/text_preparation/lib/python3.10/site-packages/urllib3/connectionpool.py:1045: InsecureRequestWarning: Unverified HTTPS request is being made to host 'localhost'. Adding certificate verification is strongly advised. See: https://urllib3.readthedocs.io/en/1.26.x/advanced-usage.html#ssl-warnings\n",
      "  warnings.warn(\n"
     ]
    }
   ],
   "source": [
    "ds = OpenSearchDocumentStore()"
   ]
  },
  {
   "cell_type": "code",
   "execution_count": 4,
   "id": "8868d74e",
   "metadata": {},
   "outputs": [],
   "source": [
    "with open('./data/processed_reviews.parquet', mode='rb') as file:\n",
    "    df = pd.read_parquet(file)"
   ]
  },
  {
   "cell_type": "code",
   "execution_count": 9,
   "id": "9b9fb728",
   "metadata": {},
   "outputs": [
    {
     "data": {
      "text/plain": [
       "company_name\n",
       "FERCHAU GmbH                                 499\n",
       "Netto Marken-Discount AG & Co. KG            439\n",
       "ALDI SÜD                                     343\n",
       "Hays                                         287\n",
       "TEDi GmbH & Co. KG                           285\n",
       "                                            ... \n",
       "Rudnick GmbH                                   1\n",
       "GEUM.tec GmbH                                  1\n",
       "Rudolf Dorsch                                  1\n",
       "GETTO INNENARCHITEKTUR                         1\n",
       "MWG - Wohnungsgenossenschaft eG Magdeburg      1\n",
       "Length: 127780, dtype: int64"
      ]
     },
     "execution_count": 9,
     "metadata": {},
     "output_type": "execute_result"
    }
   ],
   "source": [
    "df.loc[df['text_s1_len'] > 10].groupby(by='company_name').size().sort_values(ascending=False)"
   ]
  },
  {
   "cell_type": "code",
   "execution_count": 17,
   "id": "c9ec2503",
   "metadata": {},
   "outputs": [
    {
     "data": {
      "text/plain": [
       "'304de031-0ca6-45fe-b57e-99209d358551'"
      ]
     },
     "execution_count": 17,
     "metadata": {},
     "output_type": "execute_result"
    }
   ],
   "source": [
    "df.loc[df['company_name'] == 'FERCHAU GmbH', 'profile_uuid', 'job_status'].iloc[0]"
   ]
  },
  {
   "cell_type": "code",
   "execution_count": 18,
   "id": "847ffccc",
   "metadata": {},
   "outputs": [],
   "source": [
    "most_texts = '304de031-0ca6-45fe-b57e-99209d358551'"
   ]
  },
  {
   "cell_type": "code",
   "execution_count": 20,
   "id": "ff9d66ed",
   "metadata": {},
   "outputs": [],
   "source": [
    "relevant_cols = [\n",
    "    'text_s1', \n",
    "    'text_s1_original', \n",
    "    's_1',\n",
    "    'profile_ebp_status',\n",
    "    'profile_industry_id',\n",
    "    'profile_weighted_total']"
   ]
  },
  {
   "cell_type": "code",
   "execution_count": 21,
   "id": "612b4974",
   "metadata": {},
   "outputs": [
    {
     "data": {
      "text/plain": [
       "(288, 6)"
      ]
     },
     "execution_count": 21,
     "metadata": {},
     "output_type": "execute_result"
    }
   ],
   "source": [
    "df.loc[\n",
    "    (df['profile_uuid'] == most_texts) & \n",
    "    (df['text_s1_len'] >= 20) &\n",
    "    (df['text_s1_language'] == 'de') &\n",
    "    (df['text_s1_language_confidence'] >= .75), \n",
    "    relevant_cols].shape"
   ]
  },
  {
   "cell_type": "code",
   "execution_count": 22,
   "id": "c654335a",
   "metadata": {},
   "outputs": [],
   "source": [
    "df = df.loc[\n",
    "    (df['profile_uuid'] == most_texts) & \n",
    "    (df['text_s1_len'] >= 20) &\n",
    "    (df['text_s1_language'] == 'de') &\n",
    "    (df['text_s1_language_confidence'] >= .75), \n",
    "    relevant_cols]"
   ]
  },
  {
   "cell_type": "code",
   "execution_count": 33,
   "id": "2d4a8227",
   "metadata": {},
   "outputs": [
    {
     "data": {
      "text/plain": [
       "{9632: {'text_s1': 'eingehen zugehen mitarbeiter dankeschön gute laufende projekte bzw anerkennung gehör weiterbildungen dabei heisst slogan bringen',\n",
       "  'text_s1_original': 'Kein eingehen und zugehen auf die Mitarbeiter. Keine Dankeschön für gute laufende Projekte bzw. keine Anerkennung. Kein Gehör für Weiterbildungen. Dabei heißt es im Slogan \"Wir bringen sie weiter\". ',\n",
       "  's_1': 1.0,\n",
       "  'profile_ebp_status': 'EBP_PRO',\n",
       "  'profile_industry_id': 38,\n",
       "  'profile_weighted_total': 4.0774},\n",
       " 11714: {'text_s1': 'inkompetentes verhalten führungsebene bspw kollegen bevorzugt gegeneinander ausgespielt schlecht gemacht schwächen stark hervorgehoben statt potenzial fördern umdenken nötig',\n",
       "  'text_s1_original': 'Inkompetentes Verhalten der Führungsebene. Bspw. werden manche Kollegen bevorzugt, gegeneinander ausgespielt oder vor anderen schlecht gemacht. Schwächen werden stark hervorgehoben statt Potenzial zu fördern. Ein Umdenken ist nötig!',\n",
       "  's_1': 1.0,\n",
       "  'profile_ebp_status': 'EBP_PRO',\n",
       "  'profile_industry_id': 38,\n",
       "  'profile_weighted_total': 4.0774}}"
      ]
     },
     "execution_count": 33,
     "metadata": {},
     "output_type": "execute_result"
    }
   ],
   "source": [
    "# orientstr {‘dict’, ‘list’, ‘series’, ‘split’, ‘tight’, ‘records’, ‘index’}\n",
    "df.iloc[:2].to_dict(orient='index')"
   ]
  },
  {
   "cell_type": "code",
   "execution_count": 23,
   "id": "e5766df6",
   "metadata": {},
   "outputs": [
    {
     "data": {
      "text/html": [
       "<div>\n",
       "<style scoped>\n",
       "    .dataframe tbody tr th:only-of-type {\n",
       "        vertical-align: middle;\n",
       "    }\n",
       "\n",
       "    .dataframe tbody tr th {\n",
       "        vertical-align: top;\n",
       "    }\n",
       "\n",
       "    .dataframe thead th {\n",
       "        text-align: right;\n",
       "    }\n",
       "</style>\n",
       "<table border=\"1\" class=\"dataframe\">\n",
       "  <thead>\n",
       "    <tr style=\"text-align: right;\">\n",
       "      <th></th>\n",
       "      <th>text_s1</th>\n",
       "      <th>text_s1_original</th>\n",
       "      <th>s_1</th>\n",
       "      <th>profile_ebp_status</th>\n",
       "      <th>profile_industry_id</th>\n",
       "      <th>profile_weighted_total</th>\n",
       "    </tr>\n",
       "  </thead>\n",
       "  <tbody>\n",
       "    <tr>\n",
       "      <th>9632</th>\n",
       "      <td>eingehen zugehen mitarbeiter dankeschön gute laufende projekte bzw anerkennu...</td>\n",
       "      <td>Kein eingehen und zugehen auf die Mitarbeiter. Keine Dankeschön für gute lau...</td>\n",
       "      <td>1.0</td>\n",
       "      <td>EBP_PRO</td>\n",
       "      <td>38</td>\n",
       "      <td>4.0774</td>\n",
       "    </tr>\n",
       "    <tr>\n",
       "      <th>11714</th>\n",
       "      <td>inkompetentes verhalten führungsebene bspw kollegen bevorzugt gegeneinander ...</td>\n",
       "      <td>Inkompetentes Verhalten der Führungsebene. Bspw. werden manche Kollegen bevo...</td>\n",
       "      <td>1.0</td>\n",
       "      <td>EBP_PRO</td>\n",
       "      <td>38</td>\n",
       "      <td>4.0774</td>\n",
       "    </tr>\n",
       "    <tr>\n",
       "      <th>20302</th>\n",
       "      <td>gros funktionen vorgesetzter ausübt quasi vorgesetzten beim kunden ausgeführ...</td>\n",
       "      <td>Das Gros der Funktionen, die ein Vorgesetzter ausübt, wird durch den quasi-V...</td>\n",
       "      <td>5.0</td>\n",
       "      <td>EBP_PRO</td>\n",
       "      <td>38</td>\n",
       "      <td>4.0774</td>\n",
       "    </tr>\n",
       "    <tr>\n",
       "      <th>21547</th>\n",
       "      <td>normalerweise gut vorgesetzt zeit mal gewechselt eigentlicher vorgesetzt wur...</td>\n",
       "      <td>Normalerweise gut. Mein Vorgesetzt.er hat sich in der Zeit 3 mal gewechselt....</td>\n",
       "      <td>1.0</td>\n",
       "      <td>EBP_PRO</td>\n",
       "      <td>38</td>\n",
       "      <td>4.0774</td>\n",
       "    </tr>\n",
       "    <tr>\n",
       "      <th>24272</th>\n",
       "      <td>merkt vertrieblern tun porsche verkauft bekommt alten twingo ansonsten zulet...</td>\n",
       "      <td>Man merkt, dass man es mit Vertrieblern zu tun hat. Einem wird ein Porsche v...</td>\n",
       "      <td>1.0</td>\n",
       "      <td>EBP_PRO</td>\n",
       "      <td>38</td>\n",
       "      <td>4.0774</td>\n",
       "    </tr>\n",
       "  </tbody>\n",
       "</table>\n",
       "</div>"
      ],
      "text/plain": [
       "                                                                               text_s1  \\\n",
       "9632   eingehen zugehen mitarbeiter dankeschön gute laufende projekte bzw anerkennu...   \n",
       "11714  inkompetentes verhalten führungsebene bspw kollegen bevorzugt gegeneinander ...   \n",
       "20302  gros funktionen vorgesetzter ausübt quasi vorgesetzten beim kunden ausgeführ...   \n",
       "21547  normalerweise gut vorgesetzt zeit mal gewechselt eigentlicher vorgesetzt wur...   \n",
       "24272  merkt vertrieblern tun porsche verkauft bekommt alten twingo ansonsten zulet...   \n",
       "\n",
       "                                                                      text_s1_original  \\\n",
       "9632   Kein eingehen und zugehen auf die Mitarbeiter. Keine Dankeschön für gute lau...   \n",
       "11714  Inkompetentes Verhalten der Führungsebene. Bspw. werden manche Kollegen bevo...   \n",
       "20302  Das Gros der Funktionen, die ein Vorgesetzter ausübt, wird durch den quasi-V...   \n",
       "21547  Normalerweise gut. Mein Vorgesetzt.er hat sich in der Zeit 3 mal gewechselt....   \n",
       "24272  Man merkt, dass man es mit Vertrieblern zu tun hat. Einem wird ein Porsche v...   \n",
       "\n",
       "       s_1 profile_ebp_status  profile_industry_id  profile_weighted_total  \n",
       "9632   1.0            EBP_PRO                   38                  4.0774  \n",
       "11714  1.0            EBP_PRO                   38                  4.0774  \n",
       "20302  5.0            EBP_PRO                   38                  4.0774  \n",
       "21547  1.0            EBP_PRO                   38                  4.0774  \n",
       "24272  1.0            EBP_PRO                   38                  4.0774  "
      ]
     },
     "execution_count": 23,
     "metadata": {},
     "output_type": "execute_result"
    }
   ],
   "source": [
    "df.head()"
   ]
  },
  {
   "cell_type": "code",
   "execution_count": 77,
   "id": "66faff83",
   "metadata": {},
   "outputs": [],
   "source": [
    "def to_documents(\n",
    "    data: pd.DataFrame, column_name: str = 's1') -> list[Document]:\n",
    "    \n",
    "    result = list()\n",
    "    \n",
    "    for index, values in data.to_dict(orient='index').items():\n",
    "        d = Document(\n",
    "            id=str(index),\n",
    "            content=values[f'text_{column_name}_original'],\n",
    "            meta={\n",
    "                'stars': values[f's_{column_name[1:]}'], \n",
    "                'ebp': values['profile_ebp_status'], \n",
    "                'industry': values['profile_industry_id'], \n",
    "                'stars_profile': values['profile_weighted_total']})\n",
    "        \n",
    "        result.append(d)\n",
    "        \n",
    "        # todo: paragraph split\n",
    "    \n",
    "    return result"
   ]
  },
  {
   "cell_type": "code",
   "execution_count": 78,
   "id": "4a3d1138",
   "metadata": {},
   "outputs": [
    {
     "data": {
      "text/plain": [
       "<Document: {'content': 'Kein eingehen und zugehen auf die Mitarbeiter. Keine Dankeschön für gute laufende Projekte bzw. keine Anerkennung. Kein Gehör für Weiterbildungen. Dabei heißt es im Slogan \"Wir bringen sie weiter\". ', 'content_type': 'text', 'score': None, 'meta': {'stars': 1.0, 'ebp': 'EBP_PRO', 'industry': 38, 'stars_profile': 4.0774}, 'embedding': None, 'id': '9632'}>"
      ]
     },
     "execution_count": 78,
     "metadata": {},
     "output_type": "execute_result"
    }
   ],
   "source": [
    "to_documents(df.head())[0]"
   ]
  },
  {
   "cell_type": "code",
   "execution_count": 40,
   "id": "726bef47",
   "metadata": {},
   "outputs": [
    {
     "name": "stderr",
     "output_type": "stream",
     "text": [
      "/Users/paul.leitner/miniforge3/envs/text_preparation/lib/python3.10/site-packages/urllib3/connectionpool.py:1045: InsecureRequestWarning: Unverified HTTPS request is being made to host 'localhost'. Adding certificate verification is strongly advised. See: https://urllib3.readthedocs.io/en/1.26.x/advanced-usage.html#ssl-warnings\n",
      "  warnings.warn(\n"
     ]
    }
   ],
   "source": [
    "ds.write_documents(to_documents(df))"
   ]
  },
  {
   "cell_type": "code",
   "execution_count": 41,
   "id": "ad3031f0",
   "metadata": {},
   "outputs": [],
   "source": [
    "from haystack.nodes import BM25Retriever\n",
    "\n",
    "\n",
    "retriever = BM25Retriever(document_store=ds)"
   ]
  },
  {
   "cell_type": "code",
   "execution_count": 42,
   "id": "f1a33e68",
   "metadata": {},
   "outputs": [
    {
     "data": {
      "application/json": {
       "ascii": false,
       "bar_format": null,
       "colour": null,
       "elapsed": 0.01175689697265625,
       "initial": 0,
       "n": 0,
       "ncols": null,
       "nrows": 30,
       "postfix": null,
       "prefix": "Downloading config.json",
       "rate": null,
       "total": 571,
       "unit": "B",
       "unit_divisor": 1024,
       "unit_scale": true
      },
      "application/vnd.jupyter.widget-view+json": {
       "model_id": "afbe9d8300d94ab5bea9d3861b028b6a",
       "version_major": 2,
       "version_minor": 0
      },
      "text/plain": [
       "Downloading config.json:   0%|          | 0.00/571 [00:00<?, ?B/s]"
      ]
     },
     "metadata": {},
     "output_type": "display_data"
    },
    {
     "data": {
      "application/json": {
       "ascii": false,
       "bar_format": null,
       "colour": null,
       "elapsed": 0.026005268096923828,
       "initial": 0,
       "n": 0,
       "ncols": null,
       "nrows": 30,
       "postfix": null,
       "prefix": "Downloading pytorch_model.bin",
       "rate": null,
       "total": 496313727,
       "unit": "B",
       "unit_divisor": 1024,
       "unit_scale": true
      },
      "application/vnd.jupyter.widget-view+json": {
       "model_id": "ced565791f20494293441cfafed39902",
       "version_major": 2,
       "version_minor": 0
      },
      "text/plain": [
       "Downloading pytorch_model.bin:   0%|          | 0.00/473M [00:00<?, ?B/s]"
      ]
     },
     "metadata": {},
     "output_type": "display_data"
    },
    {
     "data": {
      "application/json": {
       "ascii": false,
       "bar_format": null,
       "colour": null,
       "elapsed": 0.051396846771240234,
       "initial": 0,
       "n": 0,
       "ncols": null,
       "nrows": 30,
       "postfix": null,
       "prefix": "Downloading tokenizer_config.json",
       "rate": null,
       "total": 79,
       "unit": "B",
       "unit_divisor": 1024,
       "unit_scale": true
      },
      "application/vnd.jupyter.widget-view+json": {
       "model_id": "2019025eb2b04ef3bd4b9ccd7d431daa",
       "version_major": 2,
       "version_minor": 0
      },
      "text/plain": [
       "Downloading tokenizer_config.json:   0%|          | 0.00/79.0 [00:00<?, ?B/s]"
      ]
     },
     "metadata": {},
     "output_type": "display_data"
    },
    {
     "data": {
      "application/json": {
       "ascii": false,
       "bar_format": null,
       "colour": null,
       "elapsed": 0.02538013458251953,
       "initial": 0,
       "n": 0,
       "ncols": null,
       "nrows": 30,
       "postfix": null,
       "prefix": "Downloading vocab.json",
       "rate": null,
       "total": 898822,
       "unit": "B",
       "unit_divisor": 1024,
       "unit_scale": true
      },
      "application/vnd.jupyter.widget-view+json": {
       "model_id": "10ddaf3fdefd4883bc1b244bc1d6982d",
       "version_major": 2,
       "version_minor": 0
      },
      "text/plain": [
       "Downloading vocab.json:   0%|          | 0.00/878k [00:00<?, ?B/s]"
      ]
     },
     "metadata": {},
     "output_type": "display_data"
    },
    {
     "data": {
      "application/json": {
       "ascii": false,
       "bar_format": null,
       "colour": null,
       "elapsed": 0.0265350341796875,
       "initial": 0,
       "n": 0,
       "ncols": null,
       "nrows": 30,
       "postfix": null,
       "prefix": "Downloading merges.txt",
       "rate": null,
       "total": 456318,
       "unit": "B",
       "unit_divisor": 1024,
       "unit_scale": true
      },
      "application/vnd.jupyter.widget-view+json": {
       "model_id": "0b64cbb5380547ada81f7b3abd5f56a0",
       "version_major": 2,
       "version_minor": 0
      },
      "text/plain": [
       "Downloading merges.txt:   0%|          | 0.00/446k [00:00<?, ?B/s]"
      ]
     },
     "metadata": {},
     "output_type": "display_data"
    },
    {
     "data": {
      "application/json": {
       "ascii": false,
       "bar_format": null,
       "colour": null,
       "elapsed": 0.02964019775390625,
       "initial": 0,
       "n": 0,
       "ncols": null,
       "nrows": 30,
       "postfix": null,
       "prefix": "Downloading special_tokens_map.json",
       "rate": null,
       "total": 772,
       "unit": "B",
       "unit_divisor": 1024,
       "unit_scale": true
      },
      "application/vnd.jupyter.widget-view+json": {
       "model_id": "da6c98c9823e4af59d7d8d47f1f28ed7",
       "version_major": 2,
       "version_minor": 0
      },
      "text/plain": [
       "Downloading special_tokens_map.json:   0%|          | 0.00/772 [00:00<?, ?B/s]"
      ]
     },
     "metadata": {},
     "output_type": "display_data"
    }
   ],
   "source": [
    "from haystack.nodes import FARMReader\n",
    "\n",
    "# Load a  local model or any of the QA models on\n",
    "# Hugging Face's model hub (https://huggingface.co/models)\n",
    "\n",
    "reader = FARMReader(model_name_or_path=\"deepset/roberta-base-squad2\", use_gpu=True)\n"
   ]
  },
  {
   "cell_type": "code",
   "execution_count": 43,
   "id": "8ccd421a",
   "metadata": {},
   "outputs": [],
   "source": [
    "from haystack.pipelines import ExtractiveQAPipeline\n",
    "\n",
    "pipe = ExtractiveQAPipeline(reader, retriever)"
   ]
  },
  {
   "cell_type": "code",
   "execution_count": 69,
   "id": "8b6eb0d2",
   "metadata": {},
   "outputs": [
    {
     "name": "stderr",
     "output_type": "stream",
     "text": [
      "/Users/paul.leitner/miniforge3/envs/text_preparation/lib/python3.10/site-packages/urllib3/connectionpool.py:1045: InsecureRequestWarning: Unverified HTTPS request is being made to host 'localhost'. Adding certificate verification is strongly advised. See: https://urllib3.readthedocs.io/en/1.26.x/advanced-usage.html#ssl-warnings\n",
      "  warnings.warn(\n",
      "Inferencing Samples: 100%|████████████████████████████████████████████████████████| 1/1 [00:00<00:00,  1.11 Batches/s]"
     ]
    },
    {
     "name": "stdout",
     "output_type": "stream",
     "text": [
      "{'answers': [<Answer {'answer': 'Menschen', 'type': 'extractive', 'score': 0.07754438370466232, 'context': 'Fehlentscheidung kommen vor . Vorgesetzte sind eben nur Menschen. Aber in der Regel wird die Strategie der Situation angepasst. Es wird versucht, die ', 'offsets_in_document': [{'start': 56, 'end': 64}], 'offsets_in_context': [{'start': 56, 'end': 64}], 'document_id': '1054356', 'meta': {'stars': 3.0, 'ebp': 'EBP_PRO', 'industry': 38, 'stars_profile': 4.0774}}>,\n",
      "             <Answer {'answer': 'persönlicher Ansprechpartner eigentlich immer für seinen MA da. Man ist sich perdu', 'type': 'extractive', 'score': 0.03572332486510277, 'context': 'Der Vorgesetzte ist als persönlicher Ansprechpartner eigentlich immer für seinen MA da. Man ist sich perdu. Ich habe allerdings auch schon erlebt, das', 'offsets_in_document': [{'start': 24, 'end': 106}], 'offsets_in_context': [{'start': 24, 'end': 106}], 'document_id': '301451', 'meta': {'stars': 4.0, 'ebp': 'EBP_PRO', 'industry': 38, 'stars_profile': 4.0774}}>,\n",
      "             <Answer {'answer': 'offen für alternativ Vorschläge der Mitarbeiter offen', 'type': 'extractive', 'score': 0.028350308537483215, 'context': 'iktsituation mit der Situation souverän um, sind offen für alternativ Vorschläge der Mitarbeiter offen, hören sich diese an und beziehen die Mitarbeit', 'offsets_in_document': [{'start': 75, 'end': 128}], 'offsets_in_context': [{'start': 49, 'end': 102}], 'document_id': '846168', 'meta': {'stars': 5.0, 'ebp': 'EBP_PRO', 'industry': 38, 'stars_profile': 4.0774}}>,\n",
      "             <Answer {'answer': 'einzelne Beispiele', 'type': 'extractive', 'score': 0.018803713843226433, 'context': 'r arbeiten und an Meetings teilnehmen lassen. Dies sind lediglich einzelne Beispiele, die sich auf mich persönlich beziehen, jedoch keinen Einzelfall ', 'offsets_in_document': [{'start': 939, 'end': 957}], 'offsets_in_context': [{'start': 66, 'end': 84}], 'document_id': '175809', 'meta': {'stars': 2.0, 'ebp': 'EBP_PRO', 'industry': 38, 'stars_profile': 4.0774}}>,\n",
      "             <Answer {'answer': 'Die besten', 'type': 'extractive', 'score': 0.01753481850028038, 'context': 'Hier wünsche ich mir auch mehr langfristige Ziele und Strategien. Die besten sind bereits alle weg, macht die Augen auf.', 'offsets_in_document': [{'start': 66, 'end': 76}], 'offsets_in_context': [{'start': 66, 'end': 76}], 'document_id': '1520697', 'meta': {'stars': 2.0, 'ebp': 'EBP_PRO', 'industry': 38, 'stars_profile': 4.0774}}>],\n",
      " 'documents': [<Document: {'content': 'Vorgesetzte versuchen sich dem sog. Mainstream entsprechend zu Verhalten und sind hierdurch nicht authentisch. Viele Vorgesetzte beim Kunden besitzen keinerlei Persönlichkeit besitzen keine Ausstrahlung zur Motivation....', 'content_type': 'text', 'score': 0.8095779479936042, 'meta': {'stars': 3.0, 'ebp': 'EBP_PRO', 'industry': 38, 'stars_profile': 4.0774}, 'embedding': None, 'id': '662395'}>,\n",
      "               <Document: {'content': 'Vorgesetzte gehen in Konfliktsituation mit der Situation souverän um, sind offen für alternativ Vorschläge der Mitarbeiter offen, hören sich diese an und beziehen die Mitarbeiter bis zu einem Bestimmten Grad mit in die Entscheidungen mit ein. Die Entscheidungen sind klar und verständlich, falls Fragen auftauchen werden diese umgehend und schnellst möglich.', 'content_type': 'text', 'score': 0.6373102673246741, 'meta': {'stars': 5.0, 'ebp': 'EBP_PRO', 'industry': 38, 'stars_profile': 4.0774}, 'embedding': None, 'id': '846168'}>,\n",
      "               <Document: {'content': 'Fehlentscheidung kommen vor . Vorgesetzte sind eben nur Menschen. Aber in der Regel wird die Strategie der Situation angepasst. Es wird versucht, die Mitarbeiter für die neue Regelung zu motivieren, Änderungen zu akzeptieren.', 'content_type': 'text', 'score': 0.6353752901528024, 'meta': {'stars': 3.0, 'ebp': 'EBP_PRO', 'industry': 38, 'stars_profile': 4.0774}, 'embedding': None, 'id': '1054356'}>,\n",
      "               <Document: {'content': 'Wie beim Punkt \"Arbeitsatmosphäre\" angedeutet, ist hier viel Luft nach oben. Auf dieser hierarchische Ebene und darüber werden Ziele definiert, die nicht \"SMART\" sind. Vor allem sind die Ziele unrealistisch. Oftmals fallen noch so viele Aufgaben nebenbei an - die auch gemacht werden sollen - das man nur schwer die essentiellen Aufgaben bearbeiten kann. Zudem kam es vor, dass sich Vorgesetzte bei Kollegen über das Arbeitsverhalten eines nicht anwesenden Kollegen auslassen und das nicht im Positiven.', 'content_type': 'text', 'score': 0.6183587831724264, 'meta': {'stars': 2.0, 'ebp': 'EBP_PRO', 'industry': 38, 'stars_profile': 4.0774}, 'embedding': None, 'id': '1592946'}>,\n",
      "               <Document: {'content': 'Sprüche wie \"Ex-Soldaten haben eh nichts drauf\" oder \"Sie können das eh nicht, Sie sind nur Techniker\" sind zwei der prägendsten Erinnerungen ', 'content_type': 'text', 'score': 0.603431765213312, 'meta': {'stars': 1.0, 'ebp': 'EBP_PRO', 'industry': 38, 'stars_profile': 4.0774}, 'embedding': None, 'id': '1161226'}>,\n",
      "               <Document: {'content': 'Häufig mehr als dürftig. Vorgesetzte versuchen sich im kumpelhaften, lässigen Umgang und berichten dauernd von Erfolgen, die gefühlte Dekanden zurückliegen. Selbst jedooch, verkörpern einzelne Vorgesetzte das Gegenteil von Einsatzbereitschaft. Die Erreichbarkeit einiger Vorgesetzten ist im HomeOffice oft schlecht gewesen (lag nicht am Besetztzeichen). Sind Sachverhalte unklar oder sucht man bei neuen Herausforderungen Hilfe und Unterstützung, wird dies nicht selten als unangebracht bewertet. Auch fehlte es mir oft an Transparenz und Fairness in der Kommunikation. Mein Kündigungsgespräch fand beispielsweise ohne jegliche Vorankündigungen statt. Im Gegenteil, es wurde kurze Zeit vorher noch versichert, dass sich die Angestellten meiner Position keine Gedanken um einen Jobverlust machen müssten. Weiterhin hat man mich am Tag meiner Kündigung noch den Vormittag über arbeiten und an Meetings teilnehmen lassen. Dies sind lediglich einzelne Beispiele, die sich auf mich persönlich beziehen, jedoch keinen Einzelfall darstellen.', 'content_type': 'text', 'score': 0.60290411012517, 'meta': {'stars': 2.0, 'ebp': 'EBP_PRO', 'industry': 38, 'stars_profile': 4.0774}, 'embedding': None, 'id': '175809'}>,\n",
      "               <Document: {'content': 'Der Vorgesetzte ist als persönlicher Ansprechpartner eigentlich immer für seinen MA da. Man ist sich perdu. Ich habe allerdings auch schon erlebt, dass der Vorgesetzte sich im persönlichen Gespräch über andere Mitarbeiter auslässt. Neben der Tatsache, dass dieses Verhalten sehr unprofessionell ist, fragt man sich, was der Vorgesetzte wohl bei anderen über einen selbst erzählt.', 'content_type': 'text', 'score': 0.5874781912551973, 'meta': {'stars': 4.0, 'ebp': 'EBP_PRO', 'industry': 38, 'stars_profile': 4.0774}, 'embedding': None, 'id': '301451'}>,\n",
      "               <Document: {'content': 'Sind meist in einer der vielen Besprechungen. Stichwort Mikromanagement. Man ist mehr mit sich selbst beschäftigt als mit der Außenwelt.', 'content_type': 'text', 'score': 0.5836192421166899, 'meta': {'stars': 2.0, 'ebp': 'EBP_PRO', 'industry': 38, 'stars_profile': 4.0774}, 'embedding': None, 'id': '263269'}>,\n",
      "               <Document: {'content': 'Ich habe bis jetzt noch keinen Kollegen getroffen, der sich als Vorgesetzter aufspielt. Wir sind alle Teammitglieder mit unterschiedlichen Aufgaben.', 'content_type': 'text', 'score': 0.5836192421166899, 'meta': {'stars': 5.0, 'ebp': 'EBP_PRO', 'industry': 38, 'stars_profile': 4.0774}, 'embedding': None, 'id': '1150443'}>,\n",
      "               <Document: {'content': 'Hier wünsche ich mir auch mehr langfristige Ziele und Strategien. Die besten sind bereits alle weg, macht die Augen auf.', 'content_type': 'text', 'score': 0.5836192421166899, 'meta': {'stars': 2.0, 'ebp': 'EBP_PRO', 'industry': 38, 'stars_profile': 4.0774}, 'embedding': None, 'id': '1520697'}>],\n",
      " 'no_ans_gap': -5.008352696895599,\n",
      " 'node_id': 'Reader',\n",
      " 'params': {'Reader': {'top_k': 5}, 'Retriever': {'top_k': 10}},\n",
      " 'query': 'sind vorgesetzte authentisch?',\n",
      " 'root_node': 'Query'}\n"
     ]
    },
    {
     "name": "stderr",
     "output_type": "stream",
     "text": [
      "\n"
     ]
    }
   ],
   "source": [
    "from pprint import pprint\n",
    "\n",
    "# You can configure how many candidates the Reader and Retriever shall return\n",
    "# The higher top_k_retriever, the better (but also the slower) your answers.\n",
    "prediction = pipe.run(\n",
    "    query=\"sind vorgesetzte authentisch?\", params={\"Retriever\": {\"top_k\": 10}, \"Reader\": {\"top_k\": 5}}\n",
    ")\n",
    "pprint(prediction)"
   ]
  },
  {
   "cell_type": "code",
   "execution_count": 76,
   "id": "58725ce8",
   "metadata": {},
   "outputs": [
    {
     "name": "stdout",
     "output_type": "stream",
     "text": [
      "{'answer': 'Menschen',\n",
      " 'context': 'Fehlentscheidung kommen vor . Vorgesetzte sind eben nur Menschen. '\n",
      "            'Aber in der Regel wird die Strategie der Situation angepasst. Es '\n",
      "            'wird versucht, die ',\n",
      " 'document_id': '1054356',\n",
      " 'meta': {'ebp': 'EBP_PRO',\n",
      "          'industry': 38,\n",
      "          'stars': 3.0,\n",
      "          'stars_profile': 4.0774},\n",
      " 'offsets_in_context': [{'end': 64, 'start': 56}],\n",
      " 'offsets_in_document': [{'end': 64, 'start': 56}],\n",
      " 'score': 0.07754438370466232,\n",
      " 'type': 'extractive'}\n"
     ]
    }
   ],
   "source": [
    "pprint(prediction['answers'][0].to_dict())"
   ]
  },
  {
   "cell_type": "code",
   "execution_count": 65,
   "id": "fc61ae7b",
   "metadata": {},
   "outputs": [
    {
     "name": "stdout",
     "output_type": "stream",
     "text": [
      "{'profile_ebp_status': 'EBP_PRO',\n",
      " 'profile_industry_id': 38,\n",
      " 'profile_weighted_total': 4.0774,\n",
      " 's_1': 3.0,\n",
      " 'text_s1': 'fehlentscheidung kommen vorgesetzte eben menschen regel strategie '\n",
      "            'situation angepasst versucht mitarbeiter neue regelung motivieren '\n",
      "            'änderungen akzeptieren',\n",
      " 'text_s1_original': 'Fehlentscheidung kommen vor . Vorgesetzte sind eben nur '\n",
      "                     'Menschen. Aber in der Regel wird die Strategie der '\n",
      "                     'Situation angepasst. Es wird versucht, die Mitarbeiter '\n",
      "                     'für die neue Regelung zu motivieren, Änderungen zu '\n",
      "                     'akzeptieren.'}\n"
     ]
    }
   ],
   "source": [
    "pprint(df.loc[1054356].to_dict())"
   ]
  },
  {
   "cell_type": "code",
   "execution_count": null,
   "id": "5f5b95bb",
   "metadata": {},
   "outputs": [],
   "source": []
  }
 ],
 "metadata": {
  "kernelspec": {
   "display_name": "Python 3 (ipykernel)",
   "language": "python",
   "name": "python3"
  },
  "language_info": {
   "codemirror_mode": {
    "name": "ipython",
    "version": 3
   },
   "file_extension": ".py",
   "mimetype": "text/x-python",
   "name": "python",
   "nbconvert_exporter": "python",
   "pygments_lexer": "ipython3",
   "version": "3.10.5"
  }
 },
 "nbformat": 4,
 "nbformat_minor": 5
}
